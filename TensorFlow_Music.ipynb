{
 "cells": [
  {
   "cell_type": "code",
   "execution_count": 2,
   "metadata": {
    "collapsed": false
   },
   "outputs": [
    {
     "name": "stdout",
     "output_type": "stream",
     "text": [
      "The autoreload extension is already loaded. To reload it, use:\n",
      "  %reload_ext autoreload\n"
     ]
    }
   ],
   "source": [
    "%matplotlib inline\n",
    "%load_ext autoreload\n",
    "%autoreload 2\n",
    "import sys\n",
    "\n",
    "import cPickle\n",
    "import numpy as np\n",
    "import pandas as pd\n",
    "import tensorflow as tf\n",
    "from matplotlib import pyplot as plt\n",
    "from tensorflow.contrib import learn\n",
    "from sklearn.metrics import mean_squared_error\n",
    "from lstm import x_sin, sin_cos, generate_data, lstm_model\n",
    "import os\n",
    "from tqdm import tqdm\n",
    "import seaborn as sns\n",
    "sys.path.append(\"/Users/danshiebler/Documents/music_rnn\")\n",
    "import pygame\n",
    "from matplotlib import pyplot as plt\n",
    "import midi_util\n",
    "import feature_encoder\n",
    "import music_lstm\n",
    "import time\n",
    "#RATHER THAN USE A HUGE DIRECT INTEGER ENCODING - TRY A DICTIONARY MAPPING\n",
    "\n",
    "def dump_midi(midi_vec, filename, time_step=32, resolution=480, n=128):\n",
    "    M  = midi_util.MidiWriter()\n",
    "    M.dump_sequence_to_midi(midi_vec, filename, time_step, resolution)\n",
    "\n",
    "def plot_midi(midi_vec, n=128):\n",
    "    plt.imshow(midi_vec, extent=[0, 1, 0, 1])\n",
    "\n",
    "train_files = !ls music_all/train\n",
    "test_files = !ls music_all/test\n",
    "cv_files = !ls music_all/valid\n",
    "\n",
    "resolution = 480\n",
    "time_step = 120\n",
    "train_examples = [midi_util.parse_midi_to_sequence(\"music_all/train/{}\".format(f), time_step=time_step) for f in train_files]\n",
    "test_examples = [midi_util.parse_midi_to_sequence(\"music_all/test/{}\".format(f), time_step=time_step) for f in test_files[:5]]\n",
    "# cv_examples = [midi_util.parse_midi_to_sequence(\"music_all/valid/{}\".format(f), time_step=time_step) for f in cv_files]"
   ]
  },
  {
   "cell_type": "code",
   "execution_count": 3,
   "metadata": {
    "collapsed": false
   },
   "outputs": [
    {
     "name": "stderr",
     "output_type": "stream",
     "text": [
      "WARNING:tensorflow:<tensorflow.python.ops.rnn_cell.BasicLSTMCell object at 0x1160e7110>: Using a concatenated state is slower and will soon be deprecated.  Use state_is_tuple=True.\n",
      "WARNING:tensorflow:<tensorflow.python.ops.rnn_cell.BasicLSTMCell object at 0x1160e7110>: Using a concatenated state is slower and will soon be deprecated.  Use state_is_tuple=True.\n"
     ]
    },
    {
     "name": "stdout",
     "output_type": "stream",
     "text": [
      "complete\n"
     ]
    }
   ],
   "source": [
    "#run once\n",
    "timestep = 200\n",
    "learning_rate = 0.001\n",
    "n_steps = timestep\n",
    "n_classes = train_examples[0].shape[1]\n",
    "n_hidden = 128 # hidden layer num of features\n",
    "\n",
    "        \n",
    "        \n",
    "# tf Graph input\n",
    "x = tf.placeholder(\"float\", [None, n_steps, n_classes])\n",
    "y = tf.placeholder(\"float\", [None, n_classes])\n",
    "\n",
    "# Define weights\n",
    "weights = {\n",
    "    'out': tf.Variable(tf.random_normal([n_hidden, n_classes]))\n",
    "}\n",
    "biases = {\n",
    "    'out': tf.Variable(tf.random_normal([n_classes]))\n",
    "}\n",
    "\n",
    "pred = music_lstm.RNN(x, weights, biases, n_classes, timestep, n_hidden)\n",
    "\n",
    "# Define loss and optimizer\n",
    "cost = tf.reduce_mean(tf.nn.softmax_cross_entropy_with_logits(pred, y))\n",
    "optimizer = tf.train.AdamOptimizer(learning_rate=learning_rate).minimize(cost)\n",
    "\n",
    "# Evaluate model\n",
    "correct_pred = tf.equal(tf.argmax(pred,1), tf.argmax(y,1))\n",
    "accuracy = tf.reduce_mean(tf.cast(correct_pred, tf.float32))\n",
    "\n",
    "# Initializing the variables\n",
    "init = tf.initialize_all_variables()\n",
    "print \"complete\""
   ]
  },
  {
   "cell_type": "code",
   "execution_count": 88,
   "metadata": {
    "collapsed": false
   },
   "outputs": [
    {
     "name": "stdout",
     "output_type": "stream",
     "text": [
      "Iter 0, Minibatch Loss= 12.174850, Training Accuracy= 0.01630, Time Elapsed: 14.0099852085\n",
      "Iter 10, Minibatch Loss= 15.178966, Training Accuracy= 0.00000, Time Elapsed: 93.3476750851\n",
      "Iter 20, Minibatch Loss= 13.945848, Training Accuracy= 0.12917, Time Elapsed: 116.655647039\n",
      "Iter 30, Minibatch Loss= 11.558883, Training Accuracy= 0.01285, Time Elapsed: 227.690146208\n",
      "Iter 40, Minibatch Loss= 15.923075, Training Accuracy= 0.02869, Time Elapsed: 277.989197016\n",
      "Optimization Finished! 282.743499041 seconds elapsed\n"
     ]
    }
   ],
   "source": [
    "# Launch the graph\n",
    "# sess.close()\n",
    "\n",
    "display_step = 10\n",
    "NUM_THREADS  = 4\n",
    "start = time.time()\n",
    "sess =  tf.Session(config=tf.ConfigProto(intra_op_parallelism_threads=NUM_THREADS))\n",
    "sess.run(init)\n",
    "\n",
    "# Keep training until reach max iterations\n",
    "for step, ex in enumerate(train_examples):\n",
    "    batch_x, batch_y = music_lstm.get_forecast_Xy(ex, timestep)\n",
    "    if not len(batch_x):\n",
    "        continue\n",
    "    # Run optimization op (backprop)\n",
    "    sess.run(optimizer, feed_dict={x: batch_x, y: batch_y})\n",
    "    if step % display_step == 0:\n",
    "        # Calculate batch accuracy\n",
    "        acc = sess.run(accuracy, feed_dict={x: batch_x, y: batch_y})\n",
    "        # Calculate batch loss\n",
    "        loss = sess.run(cost, feed_dict={x: batch_x, y: batch_y})\n",
    "        print \"Iter \" + str(step) + \", Minibatch Loss= \" + \\\n",
    "              \"{:.6f}\".format(loss) + \", Training Accuracy= \" + \\\n",
    "              \"{:.5f}\".format(acc) + \", Time Elapsed: {}\".format(time.time() - start)\n",
    "print \"Optimization Finished! {} seconds elapsed\".format(time.time() - start)\n",
    "\n",
    "\n"
   ]
  },
  {
   "cell_type": "code",
   "execution_count": 84,
   "metadata": {
    "collapsed": false
   },
   "outputs": [
    {
     "name": "stderr",
     "output_type": "stream",
     "text": [
      "100%|██████████| 1000/1000 [00:12<00:00, 77.83it/s]\n"
     ]
    },
    {
     "data": {
      "image/png": "[encoded data removed]",
      "text/plain": [
       "<matplotlib.figure.Figure at 0x140ad09d0>"
      ]
     },
     "metadata": {},
     "output_type": "display_data"
    }
   ],
   "source": [
    "primer = music_lstm.get_forecast_Xy(test_examples[0], timestep)[0][0]\n",
    "predictions = music_lstm.compose(x, sess, pred, primer, steps=1000)\n",
    "plot_midi(predictions)"
   ]
  },
  {
   "cell_type": "code",
   "execution_count": 85,
   "metadata": {
    "collapsed": true
   },
   "outputs": [],
   "source": [
    "dump_midi(predictions, \"music_outputs/composition.midi\")"
   ]
  },
  {
   "cell_type": "code",
   "execution_count": 87,
   "metadata": {
    "collapsed": false
   },
   "outputs": [],
   "source": [
    "\n",
    "dump_midi(train_examples[0], \"music_outputs/sample.midi\")\n"
   ]
  },
  {
   "cell_type": "code",
   "execution_count": null,
   "metadata": {
    "collapsed": true
   },
   "outputs": [],
   "source": []
  }
 ],
 "metadata": {
  "kernelspec": {
   "display_name": "Python 2",
   "language": "python",
   "name": "python2"
  },
  "language_info": {
   "codemirror_mode": {
    "name": "ipython",
    "version": 2
   },
   "file_extension": ".py",
   "mimetype": "text/x-python",
   "name": "python",
   "nbconvert_exporter": "python",
   "pygments_lexer": "ipython2",
   "version": "2.7.11"
  }
 },
 "nbformat": 4,
 "nbformat_minor": 0
}
