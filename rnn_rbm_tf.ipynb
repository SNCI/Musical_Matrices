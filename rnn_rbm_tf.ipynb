{
 "cells": [
  {
   "cell_type": "code",
   "execution_count": 2,
   "metadata": {
    "collapsed": false
   },
   "outputs": [
    {
     "name": "stdout",
     "output_type": "stream",
     "text": [
      "Extracting MNIST_data/train-images-idx3-ubyte.gz\n",
      "Extracting MNIST_data/train-labels-idx1-ubyte.gz\n",
      "Extracting MNIST_data/t10k-images-idx3-ubyte.gz\n",
      "Extracting MNIST_data/t10k-labels-idx1-ubyte.gz\n"
     ]
    }
   ],
   "source": [
    "%matplotlib inline\n",
    "import tensorflow as tf\n",
    "import numpy as np\n",
    "import pandas as pd\n",
    "from midi.utils import midiread, midiwrite\n",
    "import sys\n",
    "sys.path.append(\"/Users/danshiebler/Documents\")\n",
    "import helper_functions as hf\n",
    "# sys.path.append('/home/hanhong/Projects/python27/DeepLearningTutorials/code/')\n",
    "# from utils import tile_raster_images\n",
    "# import Image\n",
    "from tensorflow.python.ops import control_flow_ops\n",
    "from tqdm import tqdm\n",
    "from matplotlib import pyplot as plt\n",
    "import glob\n",
    "from tensorflow.examples.tutorials.mnist import input_data\n",
    "mnist = input_data.read_data_sets(\"MNIST_data/\", one_hot=True)\n",
    "trX, trY, teX, teY = mnist.train.images, mnist.train.labels,\\\n",
    "    mnist.test.images, mnist.test.labels"
   ]
  },
  {
   "cell_type": "code",
   "execution_count": 32,
   "metadata": {
    "collapsed": false
   },
   "outputs": [],
   "source": [
    "\n",
    "def build_rbm(x, W, bv, bh, k):\n",
    "    size_bt = tf.shape(x)[0]\n",
    "\n",
    "    # helper functions\n",
    "    def sample(probs):\n",
    "        return tf.to_float(tf.floor(probs + tf.random_uniform(tf.shape(probs), 0, 1)))\n",
    "\n",
    "    def sampleInt(probs):\n",
    "        return tf.floor(probs + tf.random_uniform(tf.shape(probs), 0, 1))\n",
    "\n",
    "    # define graph/algorithm\n",
    "\n",
    "    # CD-k\n",
    "    # we use tf.while_loop to achieve the multiple (k - 1) gibbs sampling  \n",
    "    # set up tf.while_loop()\n",
    "    def rbmGibbs(xx, hh, count, k):\n",
    "        xk = sampleInt(tf.sigmoid(tf.matmul(hh, tf.transpose(W)) + tf.tile(tf.transpose(bv), [size_bt, 1])))\n",
    "        hk = sampleInt(tf.sigmoid(tf.matmul(xk, W) + tf.tile(tf.transpose(bh), [size_bt, 1])))\n",
    "        return xk, hk, count+1, k\n",
    "\n",
    "    def lessThanK(xk, hk, count, k):\n",
    "        return count <= k\n",
    "\n",
    "    ct = tf.constant(1) #counter\n",
    "    h = sample(tf.sigmoid(tf.matmul(x, W) + tf.tile(bh, [size_bt, 1])))# sample h x1 h1 ..\n",
    "    [xk1, hk1, _, _] = control_flow_ops.While(lessThanK, rbmGibbs, [x, h, ct, tf.constant(k)], 1, False)\n",
    "\n",
    "    def free_energy(xx):\n",
    "        #return -(v * bv).sum() - T.log(1 + T.exp(T.dot(v, W) + bh)).sum()\n",
    "        A = -tf.sigmoid(tf.matmul(xx, W) + tf.tile(bh, [size_bt, 1]))\n",
    "        B = -tf.reduce_sum(tf.matmul(xx, tf.transpose(tf.cast(tf.tile(bv, [size_bt, 1]), tf.float32))), 1)\n",
    "        return tf.add(B, A)\n",
    "\n",
    "    #Define loss and optimizer\n",
    "    #the cost is based on the difference in free energy between v and v_sample\n",
    "    e1 = free_energy(x)\n",
    "    e2 = free_energy(xk1)\n",
    "    cost = tf.reduce_mean(tf.sub(e1, e2))\n",
    "    return xk1, cost\n"
   ]
  },
  {
   "cell_type": "code",
   "execution_count": 33,
   "metadata": {
    "collapsed": false
   },
   "outputs": [],
   "source": [
    "def build_rnnrbm(n_visible= 88, n_hidden= 150, n_hidden_recurrent= 100):\n",
    "\n",
    "\n",
    "    # variables and place holder\n",
    "    W  = tf.Variable(tf.random_normal([n_visible, n_hidden], 0.01))\n",
    "    bh = tf.Variable(tf.random_uniform([n_hidden], -0.005, 0.005))\n",
    "    bv = tf.Variable(tf.random_uniform([n_visible], -0.005, 0.005))\n",
    "    x  = tf.placeholder(tf.float32, [None, n_visible])\n",
    "    a  = tf.placeholder(tf.float32)\n",
    "    size_bt = tf.shape(x)[0]\n",
    "\n",
    "    Wuh = tf.Variable(tf.random_normal([n_hidden_recurrent, n_hidden], 0.01))\n",
    "    Wuv = tf.Variable(tf.random_normal([n_hidden_recurrent, n_visible], 0.01))\n",
    "    Wvu = tf.Variable(tf.random_normal([n_visible, n_hidden_recurrent], 0.01))\n",
    "    Wuu = tf.Variable(tf.random_normal([n_hidden_recurrent, n_hidden_recurrent], 0.01))\n",
    "    bu = tf.Variable(tf.random_uniform([n_hidden_recurrent, 1], -0.005, 0.005))\n",
    "\n",
    "    params = W, bh, bv, x, a, Wuh, Wuv, Wvu, Wuu, bu\n",
    "\n",
    "    # If `v_t` is given, deterministic recurrence to compute the variable\n",
    "    # biases bv_t, bh_t at each time step. If `v_t` is None, same recurrence\n",
    "    # but with a separate Gibbs chain at each time step to sample (generate)\n",
    "    # from the RNN-RBM. The resulting sample v_t is returned in order to be\n",
    "    # passed down to the sequence history.\n",
    "    def recurrence(xx, u_tm1, _0, _1, count, k):\n",
    "        bv_t = tf.add(bv, tf.matmul(u_tm1, Wuv))\n",
    "        bh_t = tf.add(bh, tf.matmul(u_tm1, Wuh))\n",
    "        sl = tf.slice(xx, [count, -1], [1, n_visible])\n",
    "        u_t  = tf.tanh(bu + tf.matmul(sl, Wvu) + tf.matmul(u_tm1, Wuu))\n",
    "        return [xx, u_tm1, bv_t, bh_t, count+1, k]\n",
    "\n",
    "    def lessThanNumIter(_0, _1, _2, _3, count, num_iter):\n",
    "        return count <= num_iter\n",
    "\n",
    "    ct = tf.constant(1, tf.int32) #counter\n",
    "    u0 = tf.zeros([1, n_hidden_recurrent], tf.float32)\n",
    "    bh_t = tf.random_uniform([1, n_hidden], -0.005, 0.005)\n",
    "    bv_t = tf.random_uniform([1, n_visible], -0.005, 0.005)\n",
    "    [x, u_t, bv_t, bh_t, _, _] = control_flow_ops.While(lessThanNumIter, recurrence, [x, u0, bv_t, bh_t, ct, size_bt])\n",
    "\n",
    "    #Build this rbm based on the bias vectors that we already found \n",
    "    sample, cost = build_rbm(x, W, bv_t, bh_t, k=15)\n",
    "    return x, sample, cost, params\n",
    "\n",
    "x, sample, cost, params = build_rnnrbm()\n",
    "W, bh, bv, x, a, Wuh, Wuv, Wvu, Wuu, bu = params\n",
    "optimizer = tf.train.AdamOptimizer(learning_rate=a).minimize(cost)\n"
   ]
  },
  {
   "cell_type": "code",
   "execution_count": 34,
   "metadata": {
    "collapsed": false,
    "scrolled": false
   },
   "outputs": [
    {
     "ename": "InvalidArgumentError",
     "evalue": "Incompatible shapes: [100] vs. [100,150]\n\t [[Node: gradients_5/Add_4_grad/BroadcastGradientArgs = BroadcastGradientArgs[_device=\"/job:localhost/replica:0/task:0/cpu:0\"](gradients_5/Add_4_grad/Shape, gradients_5/Add_4_grad/Shape_1)]]\nCaused by op u'gradients_5/Add_4_grad/BroadcastGradientArgs', defined at:\n  File \"/Users/danshiebler/anaconda/lib/python2.7/runpy.py\", line 162, in _run_module_as_main\n    \"__main__\", fname, loader, pkg_name)\n  File \"/Users/danshiebler/anaconda/lib/python2.7/runpy.py\", line 72, in _run_code\n    exec code in run_globals\n  File \"/Users/danshiebler/anaconda/lib/python2.7/site-packages/ipykernel/__main__.py\", line 3, in <module>\n    app.launch_new_instance()\n  File \"/Users/danshiebler/anaconda/lib/python2.7/site-packages/traitlets/config/application.py\", line 596, in launch_instance\n    app.start()\n  File \"/Users/danshiebler/anaconda/lib/python2.7/site-packages/ipykernel/kernelapp.py\", line 403, in start\n    ioloop.IOLoop.instance().start()\n  File \"/Users/danshiebler/anaconda/lib/python2.7/site-packages/zmq/eventloop/ioloop.py\", line 151, in start\n    super(ZMQIOLoop, self).start()\n  File \"/Users/danshiebler/anaconda/lib/python2.7/site-packages/tornado/ioloop.py\", line 883, in start\n    handler_func(fd_obj, events)\n  File \"/Users/danshiebler/anaconda/lib/python2.7/site-packages/tornado/stack_context.py\", line 275, in null_wrapper\n    return fn(*args, **kwargs)\n  File \"/Users/danshiebler/anaconda/lib/python2.7/site-packages/zmq/eventloop/zmqstream.py\", line 433, in _handle_events\n    self._handle_recv()\n  File \"/Users/danshiebler/anaconda/lib/python2.7/site-packages/zmq/eventloop/zmqstream.py\", line 465, in _handle_recv\n    self._run_callback(callback, msg)\n  File \"/Users/danshiebler/anaconda/lib/python2.7/site-packages/zmq/eventloop/zmqstream.py\", line 407, in _run_callback\n    callback(*args, **kwargs)\n  File \"/Users/danshiebler/anaconda/lib/python2.7/site-packages/tornado/stack_context.py\", line 275, in null_wrapper\n    return fn(*args, **kwargs)\n  File \"/Users/danshiebler/anaconda/lib/python2.7/site-packages/ipykernel/kernelbase.py\", line 260, in dispatcher\n    return self.dispatch_shell(stream, msg)\n  File \"/Users/danshiebler/anaconda/lib/python2.7/site-packages/ipykernel/kernelbase.py\", line 212, in dispatch_shell\n    handler(stream, idents, msg)\n  File \"/Users/danshiebler/anaconda/lib/python2.7/site-packages/ipykernel/kernelbase.py\", line 370, in execute_request\n    user_expressions, allow_stdin)\n  File \"/Users/danshiebler/anaconda/lib/python2.7/site-packages/ipykernel/ipkernel.py\", line 175, in do_execute\n    shell.run_cell(code, store_history=store_history, silent=silent)\n  File \"/Users/danshiebler/anaconda/lib/python2.7/site-packages/IPython/core/interactiveshell.py\", line 2723, in run_cell\n    interactivity=interactivity, compiler=compiler, result=result)\n  File \"/Users/danshiebler/anaconda/lib/python2.7/site-packages/IPython/core/interactiveshell.py\", line 2825, in run_ast_nodes\n    if self.run_code(code, result):\n  File \"/Users/danshiebler/anaconda/lib/python2.7/site-packages/IPython/core/interactiveshell.py\", line 2885, in run_code\n    exec(code_obj, self.user_global_ns, self.user_ns)\n  File \"<ipython-input-33-6aee49bfb7b1>\", line 47, in <module>\n    optimizer = tf.train.AdamOptimizer(learning_rate=a).minimize(cost)\n  File \"/Users/danshiebler/anaconda/lib/python2.7/site-packages/tensorflow/python/training/optimizer.py\", line 193, in minimize\n    grad_loss=grad_loss)\n  File \"/Users/danshiebler/anaconda/lib/python2.7/site-packages/tensorflow/python/training/optimizer.py\", line 250, in compute_gradients\n    colocate_gradients_with_ops=colocate_gradients_with_ops)\n  File \"/Users/danshiebler/anaconda/lib/python2.7/site-packages/tensorflow/python/ops/gradients.py\", line 481, in gradients\n    in_grads = _AsList(grad_fn(op, *out_grads))\n  File \"/Users/danshiebler/anaconda/lib/python2.7/site-packages/tensorflow/python/ops/math_grad.py\", line 449, in _AddGrad\n    rx, ry = gen_array_ops._broadcast_gradient_args(sx, sy)\n  File \"/Users/danshiebler/anaconda/lib/python2.7/site-packages/tensorflow/python/ops/gen_array_ops.py\", line 267, in _broadcast_gradient_args\n    name=name)\n  File \"/Users/danshiebler/anaconda/lib/python2.7/site-packages/tensorflow/python/ops/op_def_library.py\", line 704, in apply_op\n    op_def=op_def)\n  File \"/Users/danshiebler/anaconda/lib/python2.7/site-packages/tensorflow/python/framework/ops.py\", line 2260, in create_op\n    original_op=self._default_original_op, op_def=op_def)\n  File \"/Users/danshiebler/anaconda/lib/python2.7/site-packages/tensorflow/python/framework/ops.py\", line 1230, in __init__\n    self._traceback = _extract_stack()\n\n...which was originally created as op u'Add_4', defined at:\n  File \"/Users/danshiebler/anaconda/lib/python2.7/runpy.py\", line 162, in _run_module_as_main\n    \"__main__\", fname, loader, pkg_name)\n[elided 17 identical lines from previous traceback]\n  File \"/Users/danshiebler/anaconda/lib/python2.7/site-packages/IPython/core/interactiveshell.py\", line 2885, in run_code\n    exec(code_obj, self.user_global_ns, self.user_ns)\n  File \"<ipython-input-33-6aee49bfb7b1>\", line 45, in <module>\n    x, sample, cost, params = build_rnnrbm()\n  File \"<ipython-input-33-6aee49bfb7b1>\", line 42, in build_rnnrbm\n    sample, cost = build_rbm(x, W, bv_t, bh_t, k=15)\n  File \"<ipython-input-32-84e93ca3a647>\", line 37, in build_rbm\n    e1 = free_energy(x)\n  File \"<ipython-input-32-84e93ca3a647>\", line 33, in free_energy\n    return tf.add(B, A)\n  File \"/Users/danshiebler/anaconda/lib/python2.7/site-packages/tensorflow/python/ops/gen_math_ops.py\", line 70, in add\n    result = _op_def_lib.apply_op(\"Add\", x=x, y=y, name=name)\n  File \"/Users/danshiebler/anaconda/lib/python2.7/site-packages/tensorflow/python/ops/op_def_library.py\", line 704, in apply_op\n    op_def=op_def)\n  File \"/Users/danshiebler/anaconda/lib/python2.7/site-packages/tensorflow/python/framework/ops.py\", line 2260, in create_op\n    original_op=self._default_original_op, op_def=op_def)\n  File \"/Users/danshiebler/anaconda/lib/python2.7/site-packages/tensorflow/python/framework/ops.py\", line 1230, in __init__\n    self._traceback = _extract_stack()\n",
     "output_type": "error",
     "traceback": [
      "\u001b[0;31m---------------------------------------------------------------------------\u001b[0m",
      "\u001b[0;31mInvalidArgumentError\u001b[0m                      Traceback (most recent call last)",
      "\u001b[0;32m<ipython-input-34-2e18f57877a8>\u001b[0m in \u001b[0;36m<module>\u001b[0;34m()\u001b[0m\n\u001b[1;32m     21\u001b[0m             \u001b[0mtr_x\u001b[0m \u001b[0;34m=\u001b[0m \u001b[0msong\u001b[0m\u001b[0;34m[\u001b[0m\u001b[0mi\u001b[0m\u001b[0;34m:\u001b[0m\u001b[0mi\u001b[0m \u001b[0;34m+\u001b[0m \u001b[0mbatch_size\u001b[0m\u001b[0;34m]\u001b[0m\u001b[0;34m\u001b[0m\u001b[0m\n\u001b[1;32m     22\u001b[0m             \u001b[0malpha\u001b[0m \u001b[0;34m=\u001b[0m \u001b[0mmin\u001b[0m\u001b[0;34m(\u001b[0m\u001b[0;36m0.05\u001b[0m\u001b[0;34m,\u001b[0m \u001b[0;36m100\u001b[0m\u001b[0;34m/\u001b[0m\u001b[0mfloat\u001b[0m\u001b[0;34m(\u001b[0m\u001b[0mi\u001b[0m\u001b[0;34m)\u001b[0m\u001b[0;34m)\u001b[0m\u001b[0;34m\u001b[0m\u001b[0m\n\u001b[0;32m---> 23\u001b[0;31m             \u001b[0msess\u001b[0m\u001b[0;34m.\u001b[0m\u001b[0mrun\u001b[0m\u001b[0;34m(\u001b[0m\u001b[0moptimizer\u001b[0m\u001b[0;34m,\u001b[0m \u001b[0mfeed_dict\u001b[0m\u001b[0;34m=\u001b[0m\u001b[0;34m{\u001b[0m\u001b[0mx\u001b[0m\u001b[0;34m:\u001b[0m \u001b[0mtr_x\u001b[0m\u001b[0;34m,\u001b[0m \u001b[0ma\u001b[0m\u001b[0;34m:\u001b[0m \u001b[0malpha\u001b[0m\u001b[0;34m}\u001b[0m\u001b[0;34m)\u001b[0m\u001b[0;34m\u001b[0m\u001b[0m\n\u001b[0m\u001b[1;32m     24\u001b[0m \u001b[0;34m\u001b[0m\u001b[0m\n",
      "\u001b[0;32m/Users/danshiebler/anaconda/lib/python2.7/site-packages/tensorflow/python/client/session.pyc\u001b[0m in \u001b[0;36mrun\u001b[0;34m(self, fetches, feed_dict, options, run_metadata)\u001b[0m\n\u001b[1;32m    370\u001b[0m     \u001b[0;32mtry\u001b[0m\u001b[0;34m:\u001b[0m\u001b[0;34m\u001b[0m\u001b[0m\n\u001b[1;32m    371\u001b[0m       result = self._run(None, fetches, feed_dict, options_ptr,\n\u001b[0;32m--> 372\u001b[0;31m                          run_metadata_ptr)\n\u001b[0m\u001b[1;32m    373\u001b[0m       \u001b[0;32mif\u001b[0m \u001b[0mrun_metadata\u001b[0m\u001b[0;34m:\u001b[0m\u001b[0;34m\u001b[0m\u001b[0m\n\u001b[1;32m    374\u001b[0m         \u001b[0mproto_data\u001b[0m \u001b[0;34m=\u001b[0m \u001b[0mtf_session\u001b[0m\u001b[0;34m.\u001b[0m\u001b[0mTF_GetBuffer\u001b[0m\u001b[0;34m(\u001b[0m\u001b[0mrun_metadata_ptr\u001b[0m\u001b[0;34m)\u001b[0m\u001b[0;34m\u001b[0m\u001b[0m\n",
      "\u001b[0;32m/Users/danshiebler/anaconda/lib/python2.7/site-packages/tensorflow/python/client/session.pyc\u001b[0m in \u001b[0;36m_run\u001b[0;34m(self, handle, fetches, feed_dict, options, run_metadata)\u001b[0m\n\u001b[1;32m    634\u001b[0m     \u001b[0;32mtry\u001b[0m\u001b[0;34m:\u001b[0m\u001b[0;34m\u001b[0m\u001b[0m\n\u001b[1;32m    635\u001b[0m       results = self._do_run(handle, target_list, unique_fetches,\n\u001b[0;32m--> 636\u001b[0;31m                              feed_dict_string, options, run_metadata)\n\u001b[0m\u001b[1;32m    637\u001b[0m     \u001b[0;32mfinally\u001b[0m\u001b[0;34m:\u001b[0m\u001b[0;34m\u001b[0m\u001b[0m\n\u001b[1;32m    638\u001b[0m       \u001b[0;31m# The movers are no longer used. Delete them.\u001b[0m\u001b[0;34m\u001b[0m\u001b[0;34m\u001b[0m\u001b[0m\n",
      "\u001b[0;32m/Users/danshiebler/anaconda/lib/python2.7/site-packages/tensorflow/python/client/session.pyc\u001b[0m in \u001b[0;36m_do_run\u001b[0;34m(self, handle, target_list, fetch_list, feed_dict, options, run_metadata)\u001b[0m\n\u001b[1;32m    706\u001b[0m     \u001b[0;32mif\u001b[0m \u001b[0mhandle\u001b[0m \u001b[0;32mis\u001b[0m \u001b[0mNone\u001b[0m\u001b[0;34m:\u001b[0m\u001b[0;34m\u001b[0m\u001b[0m\n\u001b[1;32m    707\u001b[0m       return self._do_call(_run_fn, self._session, feed_dict, fetch_list,\n\u001b[0;32m--> 708\u001b[0;31m                            target_list, options, run_metadata)\n\u001b[0m\u001b[1;32m    709\u001b[0m     \u001b[0;32melse\u001b[0m\u001b[0;34m:\u001b[0m\u001b[0;34m\u001b[0m\u001b[0m\n\u001b[1;32m    710\u001b[0m       return self._do_call(_prun_fn, self._session, handle, feed_dict,\n",
      "\u001b[0;32m/Users/danshiebler/anaconda/lib/python2.7/site-packages/tensorflow/python/client/session.pyc\u001b[0m in \u001b[0;36m_do_call\u001b[0;34m(self, fn, *args)\u001b[0m\n\u001b[1;32m    726\u001b[0m         \u001b[0;32mexcept\u001b[0m \u001b[0mKeyError\u001b[0m\u001b[0;34m:\u001b[0m\u001b[0;34m\u001b[0m\u001b[0m\n\u001b[1;32m    727\u001b[0m           \u001b[0;32mpass\u001b[0m\u001b[0;34m\u001b[0m\u001b[0m\n\u001b[0;32m--> 728\u001b[0;31m       \u001b[0;32mraise\u001b[0m \u001b[0mtype\u001b[0m\u001b[0;34m(\u001b[0m\u001b[0me\u001b[0m\u001b[0;34m)\u001b[0m\u001b[0;34m(\u001b[0m\u001b[0mnode_def\u001b[0m\u001b[0;34m,\u001b[0m \u001b[0mop\u001b[0m\u001b[0;34m,\u001b[0m \u001b[0mmessage\u001b[0m\u001b[0;34m)\u001b[0m\u001b[0;34m\u001b[0m\u001b[0m\n\u001b[0m\u001b[1;32m    729\u001b[0m \u001b[0;34m\u001b[0m\u001b[0m\n\u001b[1;32m    730\u001b[0m   \u001b[0;32mdef\u001b[0m \u001b[0m_extend_graph\u001b[0m\u001b[0;34m(\u001b[0m\u001b[0mself\u001b[0m\u001b[0;34m)\u001b[0m\u001b[0;34m:\u001b[0m\u001b[0;34m\u001b[0m\u001b[0m\n",
      "\u001b[0;31mInvalidArgumentError\u001b[0m: Incompatible shapes: [100] vs. [100,150]\n\t [[Node: gradients_5/Add_4_grad/BroadcastGradientArgs = BroadcastGradientArgs[_device=\"/job:localhost/replica:0/task:0/cpu:0\"](gradients_5/Add_4_grad/Shape, gradients_5/Add_4_grad/Shape_1)]]\nCaused by op u'gradients_5/Add_4_grad/BroadcastGradientArgs', defined at:\n  File \"/Users/danshiebler/anaconda/lib/python2.7/runpy.py\", line 162, in _run_module_as_main\n    \"__main__\", fname, loader, pkg_name)\n  File \"/Users/danshiebler/anaconda/lib/python2.7/runpy.py\", line 72, in _run_code\n    exec code in run_globals\n  File \"/Users/danshiebler/anaconda/lib/python2.7/site-packages/ipykernel/__main__.py\", line 3, in <module>\n    app.launch_new_instance()\n  File \"/Users/danshiebler/anaconda/lib/python2.7/site-packages/traitlets/config/application.py\", line 596, in launch_instance\n    app.start()\n  File \"/Users/danshiebler/anaconda/lib/python2.7/site-packages/ipykernel/kernelapp.py\", line 403, in start\n    ioloop.IOLoop.instance().start()\n  File \"/Users/danshiebler/anaconda/lib/python2.7/site-packages/zmq/eventloop/ioloop.py\", line 151, in start\n    super(ZMQIOLoop, self).start()\n  File \"/Users/danshiebler/anaconda/lib/python2.7/site-packages/tornado/ioloop.py\", line 883, in start\n    handler_func(fd_obj, events)\n  File \"/Users/danshiebler/anaconda/lib/python2.7/site-packages/tornado/stack_context.py\", line 275, in null_wrapper\n    return fn(*args, **kwargs)\n  File \"/Users/danshiebler/anaconda/lib/python2.7/site-packages/zmq/eventloop/zmqstream.py\", line 433, in _handle_events\n    self._handle_recv()\n  File \"/Users/danshiebler/anaconda/lib/python2.7/site-packages/zmq/eventloop/zmqstream.py\", line 465, in _handle_recv\n    self._run_callback(callback, msg)\n  File \"/Users/danshiebler/anaconda/lib/python2.7/site-packages/zmq/eventloop/zmqstream.py\", line 407, in _run_callback\n    callback(*args, **kwargs)\n  File \"/Users/danshiebler/anaconda/lib/python2.7/site-packages/tornado/stack_context.py\", line 275, in null_wrapper\n    return fn(*args, **kwargs)\n  File \"/Users/danshiebler/anaconda/lib/python2.7/site-packages/ipykernel/kernelbase.py\", line 260, in dispatcher\n    return self.dispatch_shell(stream, msg)\n  File \"/Users/danshiebler/anaconda/lib/python2.7/site-packages/ipykernel/kernelbase.py\", line 212, in dispatch_shell\n    handler(stream, idents, msg)\n  File \"/Users/danshiebler/anaconda/lib/python2.7/site-packages/ipykernel/kernelbase.py\", line 370, in execute_request\n    user_expressions, allow_stdin)\n  File \"/Users/danshiebler/anaconda/lib/python2.7/site-packages/ipykernel/ipkernel.py\", line 175, in do_execute\n    shell.run_cell(code, store_history=store_history, silent=silent)\n  File \"/Users/danshiebler/anaconda/lib/python2.7/site-packages/IPython/core/interactiveshell.py\", line 2723, in run_cell\n    interactivity=interactivity, compiler=compiler, result=result)\n  File \"/Users/danshiebler/anaconda/lib/python2.7/site-packages/IPython/core/interactiveshell.py\", line 2825, in run_ast_nodes\n    if self.run_code(code, result):\n  File \"/Users/danshiebler/anaconda/lib/python2.7/site-packages/IPython/core/interactiveshell.py\", line 2885, in run_code\n    exec(code_obj, self.user_global_ns, self.user_ns)\n  File \"<ipython-input-33-6aee49bfb7b1>\", line 47, in <module>\n    optimizer = tf.train.AdamOptimizer(learning_rate=a).minimize(cost)\n  File \"/Users/danshiebler/anaconda/lib/python2.7/site-packages/tensorflow/python/training/optimizer.py\", line 193, in minimize\n    grad_loss=grad_loss)\n  File \"/Users/danshiebler/anaconda/lib/python2.7/site-packages/tensorflow/python/training/optimizer.py\", line 250, in compute_gradients\n    colocate_gradients_with_ops=colocate_gradients_with_ops)\n  File \"/Users/danshiebler/anaconda/lib/python2.7/site-packages/tensorflow/python/ops/gradients.py\", line 481, in gradients\n    in_grads = _AsList(grad_fn(op, *out_grads))\n  File \"/Users/danshiebler/anaconda/lib/python2.7/site-packages/tensorflow/python/ops/math_grad.py\", line 449, in _AddGrad\n    rx, ry = gen_array_ops._broadcast_gradient_args(sx, sy)\n  File \"/Users/danshiebler/anaconda/lib/python2.7/site-packages/tensorflow/python/ops/gen_array_ops.py\", line 267, in _broadcast_gradient_args\n    name=name)\n  File \"/Users/danshiebler/anaconda/lib/python2.7/site-packages/tensorflow/python/ops/op_def_library.py\", line 704, in apply_op\n    op_def=op_def)\n  File \"/Users/danshiebler/anaconda/lib/python2.7/site-packages/tensorflow/python/framework/ops.py\", line 2260, in create_op\n    original_op=self._default_original_op, op_def=op_def)\n  File \"/Users/danshiebler/anaconda/lib/python2.7/site-packages/tensorflow/python/framework/ops.py\", line 1230, in __init__\n    self._traceback = _extract_stack()\n\n...which was originally created as op u'Add_4', defined at:\n  File \"/Users/danshiebler/anaconda/lib/python2.7/runpy.py\", line 162, in _run_module_as_main\n    \"__main__\", fname, loader, pkg_name)\n[elided 17 identical lines from previous traceback]\n  File \"/Users/danshiebler/anaconda/lib/python2.7/site-packages/IPython/core/interactiveshell.py\", line 2885, in run_code\n    exec(code_obj, self.user_global_ns, self.user_ns)\n  File \"<ipython-input-33-6aee49bfb7b1>\", line 45, in <module>\n    x, sample, cost, params = build_rnnrbm()\n  File \"<ipython-input-33-6aee49bfb7b1>\", line 42, in build_rnnrbm\n    sample, cost = build_rbm(x, W, bv_t, bh_t, k=15)\n  File \"<ipython-input-32-84e93ca3a647>\", line 37, in build_rbm\n    e1 = free_energy(x)\n  File \"<ipython-input-32-84e93ca3a647>\", line 33, in free_energy\n    return tf.add(B, A)\n  File \"/Users/danshiebler/anaconda/lib/python2.7/site-packages/tensorflow/python/ops/gen_math_ops.py\", line 70, in add\n    result = _op_def_lib.apply_op(\"Add\", x=x, y=y, name=name)\n  File \"/Users/danshiebler/anaconda/lib/python2.7/site-packages/tensorflow/python/ops/op_def_library.py\", line 704, in apply_op\n    op_def=op_def)\n  File \"/Users/danshiebler/anaconda/lib/python2.7/site-packages/tensorflow/python/framework/ops.py\", line 2260, in create_op\n    original_op=self._default_original_op, op_def=op_def)\n  File \"/Users/danshiebler/anaconda/lib/python2.7/site-packages/tensorflow/python/framework/ops.py\", line 1230, in __init__\n    self._traceback = _extract_stack()\n"
     ]
    }
   ],
   "source": [
    "#FILL THIS IN\n",
    "\n",
    "batch_size = 100 # batch size\n",
    "\n",
    "def get_songs(path='data/music_all/train/*.mid'):\n",
    "    files = glob.glob(path)\n",
    "    f = files[0]\n",
    "    r=(21, 109)\n",
    "    dt=0.3\n",
    "    songs = [midiread(f, r, dt).piano_roll for f in tqdm(files)]\n",
    "    return songs\n",
    "\n",
    "# songs = get_songs()\n",
    "with tf.Session():\n",
    "    init = tf.initialize_all_variables()\n",
    "    sess.run(init)\n",
    "\n",
    "    # loop with batch\n",
    "    for song in songs:\n",
    "        for i in range(1, len(song), batch_size):\n",
    "            tr_x = song[i:i + batch_size]\n",
    "            alpha = min(0.05, 100/float(i))\n",
    "            sess.run(optimizer, feed_dict={x: tr_x, a: alpha})\n",
    "   \n"
   ]
  },
  {
   "cell_type": "code",
   "execution_count": 7,
   "metadata": {
    "collapsed": true
   },
   "outputs": [],
   "source": [
    "sess.close()\n"
   ]
  },
  {
   "cell_type": "code",
   "execution_count": null,
   "metadata": {
    "collapsed": true
   },
   "outputs": [],
   "source": []
  }
 ],
 "metadata": {
  "kernelspec": {
   "display_name": "Python 2",
   "language": "python",
   "name": "python2"
  },
  "language_info": {
   "codemirror_mode": {
    "name": "ipython",
    "version": 2
   },
   "file_extension": ".py",
   "mimetype": "text/x-python",
   "name": "python",
   "nbconvert_exporter": "python",
   "pygments_lexer": "ipython2",
   "version": "2.7.11"
  }
 },
 "nbformat": 4,
 "nbformat_minor": 0
}
