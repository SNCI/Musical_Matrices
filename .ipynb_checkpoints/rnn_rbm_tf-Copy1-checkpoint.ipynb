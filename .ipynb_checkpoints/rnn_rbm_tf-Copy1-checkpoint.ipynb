{
 "cells": [
  {
   "cell_type": "code",
   "execution_count": 1,
   "metadata": {
    "collapsed": false
   },
   "outputs": [
    {
     "name": "stdout",
     "output_type": "stream",
     "text": [
      "Extracting MNIST_data/train-images-idx3-ubyte.gz\n",
      "Extracting MNIST_data/train-labels-idx1-ubyte.gz\n",
      "Extracting MNIST_data/t10k-images-idx3-ubyte.gz\n",
      "Extracting MNIST_data/t10k-labels-idx1-ubyte.gz\n"
     ]
    },
    {
     "name": "stderr",
     "output_type": "stream",
     "text": [
      "/Users/danshiebler/anaconda/lib/python2.7/site-packages/matplotlib/__init__.py:872: UserWarning: axes.color_cycle is deprecated and replaced with axes.prop_cycle; please use the latter.\n",
      "  warnings.warn(self.msg_depr % (key, alt_key))\n"
     ]
    }
   ],
   "source": [
    "%matplotlib inline\n",
    "import tensorflow as tf\n",
    "import numpy as np\n",
    "import pandas as pd\n",
    "from midi.utils import midiread, midiwrite\n",
    "import sys\n",
    "sys.path.append(\"/Users/danshiebler/Documents\")\n",
    "import helper_functions as hf\n",
    "# sys.path.append('/home/hanhong/Projects/python27/DeepLearningTutorials/code/')\n",
    "# from utils import tile_raster_images\n",
    "# import Image\n",
    "from tensorflow.python.ops import control_flow_ops\n",
    "from tqdm import tqdm\n",
    "from matplotlib import pyplot as plt\n",
    "import glob\n",
    "from copy import deepcopy\n",
    "from tensorflow.examples.tutorials.mnist import input_data\n",
    "mnist = input_data.read_data_sets(\"MNIST_data/\", one_hot=True)\n",
    "trX, trY, teX, teY = mnist.train.images, mnist.train.labels,\\\n",
    "    mnist.test.images, mnist.test.labels\n",
    "    \n",
    "    \n",
    "def get_songs(path='data/music_all/train/*.mid'):\n",
    "    files = glob.glob(path)[:5]\n",
    "    f = files[0]\n",
    "    r=(21, 109)\n",
    "    dt=0.3\n",
    "    songs = [midiread(f, r, dt).piano_roll for f in tqdm(files)]\n",
    "    return songs\n",
    "\n",
    "songs = get_songs()\n"
   ]
  },
  {
   "cell_type": "code",
   "execution_count": 2,
   "metadata": {
    "collapsed": false
   },
   "outputs": [],
   "source": [
    "\n",
    "def build_rbm(x, W, bv_t, bh_t, k):\n",
    "    size_bt = tf.shape(x)[0]\n",
    "\n",
    "    # helper functions\n",
    "    def sample(probs):\n",
    "        return tf.to_float(tf.floor(probs + tf.random_uniform(tf.shape(probs), 0, 1)))\n",
    "\n",
    "    def sampleInt(probs):\n",
    "        return tf.floor(probs + tf.random_uniform(tf.shape(probs), 0, 1))\n",
    "\n",
    "    # define graph/algorithm\n",
    "\n",
    "    # CD-k\n",
    "    # we use tf.while_loop to achieve the multiple (k - 1) gibbs sampling  \n",
    "    # set up tf.while_loop()\n",
    "    def rbmGibbs(xx, hh, count, k):\n",
    "        xk = sampleInt(tf.sigmoid(tf.matmul(hh, tf.transpose(W)) + tf.tile(bv_t, [size_bt, 1])))\n",
    "        hk = sampleInt(tf.sigmoid(tf.matmul(xk, W) + tf.tile(bh_t, [size_bt, 1])))\n",
    "        return xk, hk, count+1, k\n",
    "\n",
    "    def lessThanK(xk, hk, count, k):\n",
    "        return count <= k\n",
    "\n",
    "    ct = tf.constant(1) #counter\n",
    "    h = sample(tf.sigmoid(tf.matmul(x, W) + tf.tile(bh_t, [size_bt, 1])))# sample h x1 h1 ..\n",
    "    [xk1, hk1, _, _] = control_flow_ops.While(lessThanK, rbmGibbs, [x, h, ct, tf.constant(k)], 1, False)\n",
    "\n",
    "    def free_energy(xx):\n",
    "        #return -(v * bv_t).sum() - T.log(1 + T.exp(T.dot(v, W) + bh_t)).sum()\n",
    "        A = -tf.reduce_sum(tf.sigmoid(tf.matmul(xx, W) + tf.tile(bh_t, [size_bt, 1])), 1)\n",
    "        B = -tf.matmul(xx, tf.transpose(tf.cast(tf.tile(bv_t, [size_bt, 1]), tf.float32)))\n",
    "        return tf.add(B, A)\n",
    "\n",
    "    #Define loss and optimizer\n",
    "    #the cost is based on the difference in free energy between v and v_sample\n",
    "    e1 = free_energy(x)\n",
    "    e2 = free_energy(xk1)\n",
    "    cost = tf.reduce_mean(tf.sub(e1, e2))\n",
    "    return xk1, cost\n"
   ]
  },
  {
   "cell_type": "code",
   "execution_count": 9,
   "metadata": {
    "collapsed": false
   },
   "outputs": [],
   "source": [
    "def build_rnnrbm(n_visible= 88, n_hidden= 150, n_hidden_recurrent= 100):\n",
    "\n",
    "    # variables and place holder\n",
    "    x  = tf.placeholder(tf.float32, [None, n_visible])\n",
    "    a  = tf.placeholder(tf.float32)\n",
    "    size_bt = tf.shape(x)[0]\n",
    "\n",
    "#     bh = tf.Variable(tf.random_uniform([n_hidden], -0.005, 0.005))\n",
    "#     bv = tf.Variable(tf.random_uniform([n_visible], -0.005, 0.005))\n",
    "\n",
    "    W  = tf.Variable(tf.random_normal([n_visible, n_hidden], 0.01))\n",
    "    bh = tf.Variable(tf.zeros([n_hidden], tf.float32))\n",
    "    bv = tf.Variable(tf.zeros([n_visible], tf.float32))\n",
    "    Wuh = tf.Variable(tf.random_normal([n_hidden_recurrent, n_hidden], 0.0001))\n",
    "    Wuv = tf.Variable(tf.random_normal([n_hidden_recurrent, n_visible], 0.0001))\n",
    "    Wvu = tf.Variable(tf.random_normal([n_visible, n_hidden_recurrent], 0.0001))\n",
    "    Wuu = tf.Variable(tf.random_normal([n_hidden_recurrent, n_hidden_recurrent], 0.0001))\n",
    "#     bu = tf.Variable(tf.random_normal([n_hidden_recurrent, 1], 0.0001))\n",
    "    bu  = tf.Variable(tf.zeros([n_hidden_recurrent, 1],  tf.float32))\n",
    "\n",
    "    params = W, bh, bv, x, a, Wuh, Wuv, Wvu, Wuu, bu\n",
    "\n",
    "    # If `v_t` is given, deterministic recurrence to compute the variable\n",
    "    # biases bv_t, bh_t at each time step. If `v_t` is None, same recurrence\n",
    "    # but with a separate Gibbs chain at each time step to sample (generate)\n",
    "    # from the RNN-RBM. The resulting sample v_t is returned in order to be\n",
    "    # passed down to the sequence history.\n",
    "    def recurrence(xx, u_tm1, _0, _1, count, k):\n",
    "        bv_t = tf.add(bv, tf.matmul(u_tm1, Wuv))\n",
    "        bh_t = tf.add(bh, tf.matmul(u_tm1, Wuh))\n",
    "        sl   = tf.slice(xx, [count, -1], [1, n_visible])\n",
    "        xx   = tf.Print(xx, [xx])\n",
    "        sl   = tf.Print(sl, [sl])\n",
    "        u_t  = tf.tanh(bu + tf.matmul(sl, Wvu) + tf.matmul(u_tm1, Wuu))\n",
    "        return [xx, u_tm1, bv_t, bh_t, count+1, k]\n",
    "\n",
    "    def lessThanNumIter(_0, _1, _2, _3, count, num_iter):\n",
    "        return count <= num_iter\n",
    "\n",
    "    ct   = tf.constant(1, tf.int32) #counter\n",
    "    u0   = tf.zeros([1, n_hidden_recurrent], tf.float32)\n",
    "    bh_t = tf.zeros([1, n_hidden],  tf.float32)#tf.random_uniform([1, n_hidden], -0.005, 0.005)\n",
    "    bv_t = tf.zeros([1, n_visible],  tf.float32)#tf.random_uniform([1, n_visible], -0.005, 0.005)\n",
    "    [x, u_t, bv_t, bh_t, _, _] = control_flow_ops.While(lessThanNumIter, recurrence, [x, u0, bv_t, bh_t, ct, size_bt])\n",
    "    tf.scalar_summary('bv_t', bv_t)\n",
    "\n",
    "    #Build this rbm based on the bias vectors that we already found \n",
    "    sample, cost = build_rbm(x, W, bv_t, bh_t, k=15)\n",
    "    return x, sample, cost, params, bv_t, bh_t, t1, t2\n",
    "\n",
    "x, sample, cost, params, bv_t, bh_t, t1, t2 = build_rnnrbm()\n",
    "\n",
    "W, bh, bv, x, a, Wuh, Wuv, Wvu, Wuu, bu = params\n",
    "optimizer = tf.train.AdamOptimizer(learning_rate=a).minimize(cost)\n",
    "# optimizer = tf.train.GradientDescentOptimizer(learning_rate=0.1).minimize(cost)\n"
   ]
  },
  {
   "cell_type": "code",
   "execution_count": 14,
   "metadata": {
    "collapsed": false,
    "scrolled": false
   },
   "outputs": [
    {
     "name": "stderr",
     "output_type": "stream",
     "text": [
      "Exception AssertionError: AssertionError(\"Nesting violated for default stack of <type 'weakref'> objects\",) in <bound method InteractiveSession.__del__ of <tensorflow.python.client.session.InteractiveSession object at 0x1174922d0>> ignored\n"
     ]
    }
   ],
   "source": [
    "sess =  tf.InteractiveSession()\n",
    "init = tf.initialize_all_variables()\n",
    "sess.run(init)\n",
    "B = bh_t.eval(session=sess, feed_dict={x: tr_x, a: 0.1})"
   ]
  },
  {
   "cell_type": "code",
   "execution_count": 8,
   "metadata": {
    "collapsed": false,
    "scrolled": false
   },
   "outputs": [
    {
     "name": "stderr",
     "output_type": "stream",
     "text": [
      "  0%|          | 0/10 [00:00<?, ?it/s]\n",
      "Exception AssertionError: AssertionError(\"Nesting violated for default stack of <type 'weakref'> objects\",) in <bound method InteractiveSession.__del__ of <tensorflow.python.client.session.InteractiveSession object at 0x1062dbed0>> ignored\n"
     ]
    },
    {
     "ename": "AssertionError",
     "evalue": "",
     "output_type": "error",
     "traceback": [
      "\u001b[0;31m---------------------------------------------------------------------------\u001b[0m",
      "\u001b[0;31mAssertionError\u001b[0m                            Traceback (most recent call last)",
      "\u001b[0;32m<ipython-input-8-87a00f34f284>\u001b[0m in \u001b[0;36m<module>\u001b[0;34m()\u001b[0m\n\u001b[1;32m     27\u001b[0m \u001b[0;31m#             print t1.eval(session=sess, feed_dict={x: tr_x, a: 0.1})\u001b[0m\u001b[0;34m\u001b[0m\u001b[0;34m\u001b[0m\u001b[0m\n\u001b[1;32m     28\u001b[0m \u001b[0;31m#             print t2.eval(session=sess, feed_dict={x: tr_x, a: 0.1})\u001b[0m\u001b[0;34m\u001b[0m\u001b[0;34m\u001b[0m\u001b[0m\n\u001b[0;32m---> 29\u001b[0;31m             \u001b[0;32massert\u001b[0m \u001b[0mFalse\u001b[0m\u001b[0;34m\u001b[0m\u001b[0m\n\u001b[0m\u001b[1;32m     30\u001b[0m \u001b[0;34m\u001b[0m\u001b[0m\n",
      "\u001b[0;31mAssertionError\u001b[0m: "
     ]
    }
   ],
   "source": [
    "#FILL THIS IN\n",
    "\n",
    "batch_size = 100 # batch size\n",
    "num_epochs = 10\n",
    "\n",
    "sess =  tf.InteractiveSession()\n",
    "init = tf.initialize_all_variables()\n",
    "sess.run(init)\n",
    "\n",
    "before_W   = deepcopy(W.eval(session=sess))\n",
    "before_Wuh = deepcopy(Wuh.eval(session=sess))\n",
    "before_Wuv = deepcopy(Wuv.eval(session=sess))\n",
    "before_Wvu = deepcopy(Wvu.eval(session=sess))\n",
    "before_Wuu = deepcopy(Wuu.eval(session=sess))\n",
    "\n",
    "before_bh  = deepcopy(bh.eval(session=sess))\n",
    "before_bv  = deepcopy(bv.eval(session=sess))\n",
    "before_bu  = deepcopy(bu.eval(session=sess))\n",
    "\n",
    "merged = tf.merge_all_summaries()\n",
    "writer = tf.train.SummaryWriter(sess.graph)\n",
    "\n",
    "# loop with batch\n",
    "for epoch in tqdm(range(num_epochs)):\n",
    "    for song in songs[:5]:\n",
    "        for i in range(1, len(song), batch_size):\n",
    "            tr_x = song[i:i + batch_size]\n",
    "#             alpha = min(0.05, 100/float(i))\n",
    "            sess.run([merged, optimizer], feed_dict={x: tr_x, a: 0.1})\n",
    "#             print t1.eval(session=sess, feed_dict={x: tr_x, a: 0.1})\n",
    "#             print t2.eval(session=sess, feed_dict={x: tr_x, a: 0.1})\n",
    "\n"
   ]
  },
  {
   "cell_type": "code",
   "execution_count": null,
   "metadata": {
    "collapsed": true
   },
   "outputs": [],
   "source": []
  },
  {
   "cell_type": "code",
   "execution_count": null,
   "metadata": {
    "collapsed": false,
    "scrolled": false
   },
   "outputs": [],
   "source": [
    "for wb, w in zip([before_W, before_Wuh, before_Wuv, before_Wvu, before_Wuu], [W, Wuh, Wuv, Wvu, Wuu]):\n",
    "    plt.figure()\n",
    "    plt.subplot(121)\n",
    "    hf.plot2d(wb)\n",
    "    plt.subplot(122)\n",
    "    hf.plot2d(w.eval(session=sess))\n",
    "    \n",
    "for bb, b in zip([before_bh, before_bv, before_bu], [bh, bv, bu]):\n",
    "    plt.figure()\n",
    "    plt.subplot(121)\n",
    "    plt.plot(bb)\n",
    "    plt.subplot(122)\n",
    "    plt.plot(b.eval(session=sess))"
   ]
  },
  {
   "cell_type": "code",
   "execution_count": null,
   "metadata": {
    "collapsed": false
   },
   "outputs": [],
   "source": [
    "sess.close()\n"
   ]
  },
  {
   "cell_type": "code",
   "execution_count": null,
   "metadata": {
    "collapsed": true
   },
   "outputs": [],
   "source": []
  }
 ],
 "metadata": {
  "kernelspec": {
   "display_name": "Python 2",
   "language": "python",
   "name": "python2"
  },
  "language_info": {
   "codemirror_mode": {
    "name": "ipython",
    "version": 2
   },
   "file_extension": ".py",
   "mimetype": "text/x-python",
   "name": "python",
   "nbconvert_exporter": "python",
   "pygments_lexer": "ipython2",
   "version": "2.7.11"
  }
 },
 "nbformat": 4,
 "nbformat_minor": 0
}
