{
 "cells": [
  {
   "cell_type": "code",
   "execution_count": 21,
   "metadata": {
    "collapsed": false
   },
   "outputs": [
    {
     "data": {
      "text/plain": [
       "['__doc__',\n",
       " '__init__',\n",
       " '__module__',\n",
       " '_absolute_time',\n",
       " '_current_track',\n",
       " '_relative_time',\n",
       " '_tempo',\n",
       " 'abs_time',\n",
       " 'abs_time_in_seconds',\n",
       " 'active_sensing',\n",
       " 'aftertouch',\n",
       " 'beat',\n",
       " 'channel_message',\n",
       " 'channel_pressure',\n",
       " 'continuous_controller',\n",
       " 'copyright',\n",
       " 'cuepoint',\n",
       " 'device_name',\n",
       " 'div',\n",
       " 'end_of_track',\n",
       " 'eof',\n",
       " 'get_current_track',\n",
       " 'get_run_stat',\n",
       " 'header',\n",
       " 'instrument_name',\n",
       " 'key_signature',\n",
       " 'lyric',\n",
       " 'marker',\n",
       " 'meta_event',\n",
       " 'midi_ch_prefix',\n",
       " 'midi_port',\n",
       " 'midi_time_code',\n",
       " 'note_off',\n",
       " 'note_on',\n",
       " 'notes',\n",
       " 'patch_change',\n",
       " 'piano_roll',\n",
       " 'pitch_bend',\n",
       " 'rel_time',\n",
       " 'reset_run_stat',\n",
       " 'reset_time',\n",
       " 'sequence_name',\n",
       " 'sequence_number',\n",
       " 'sequencer_specific',\n",
       " 'set_current_track',\n",
       " 'set_run_stat',\n",
       " 'smtp_offset',\n",
       " 'song_continue',\n",
       " 'song_position_pointer',\n",
       " 'song_select',\n",
       " 'song_start',\n",
       " 'song_stop',\n",
       " 'start_of_track',\n",
       " 'sysex_event',\n",
       " 'system_exclusive',\n",
       " 'system_reset',\n",
       " 'tempo',\n",
       " 'text',\n",
       " 'time',\n",
       " 'time_signature',\n",
       " 'timing_clock',\n",
       " 'tuning_request',\n",
       " 'update_time']"
      ]
     },
     "execution_count": 21,
     "metadata": {},
     "output_type": "execute_result"
    }
   ],
   "source": [
    "L = !ls ../data/assorted_classical/classical_piano_C\n",
    "m = midiread(\"../data/assorted_classical/classical_piano_C/{}\".format(L[1]))\n",
    "dir(m)"
   ]
  },
  {
   "cell_type": "code",
   "execution_count": 24,
   "metadata": {
    "collapsed": false
   },
   "outputs": [
    {
     "name": "stdout",
     "output_type": "stream",
     "text": [
      "Help on function midiwrite in module utils:\n",
      "\n",
      "midiwrite(filename, piano_roll, r=(21, 109), dt=0.2, patch=0)\n",
      "\n"
     ]
    }
   ],
   "source": [
    "help(midiwrite)"
   ]
  },
  {
   "cell_type": "code",
   "execution_count": 10,
   "metadata": {
    "collapsed": false
   },
   "outputs": [
    {
     "name": "stderr",
     "output_type": "stream",
     "text": [
      "100%|██████████| 1/1 [00:00<00:00, 6096.37it/s]"
     ]
    },
    {
     "name": "stdout",
     "output_type": "stream",
     "text": [
      "[Errno 21] Is a directory: '../data/'\n"
     ]
    },
    {
     "name": "stderr",
     "output_type": "stream",
     "text": [
      "\n"
     ]
    }
   ],
   "source": [
    "%matplotlib inline\n",
    "import sys\n",
    "import tensorflow as tf\n",
    "import numpy as np\n",
    "import pandas as pd\n",
    "sys.path.append(\"../midi\")\n",
    "\n",
    "from utils import midiread, midiwrite\n",
    "sys.path.append(\"/Users/danshiebler/Documents\")\n",
    "import helper_functions as hf\n",
    "# sys.path.append('/home/hanhong/Projects/python27/DeepLearningTutorials/code/')\n",
    "# from utils import tile_raster_images\n",
    "# import Image\n",
    "from tensorflow.python.ops import control_flow_ops\n",
    "from tqdm import tqdm\n",
    "from matplotlib import pyplot as plt\n",
    "import glob\n",
    "from copy import deepcopy\n",
    "from tensorflow.examples.tutorials.mnist import input_data\n",
    "\n",
    "def get_songs(path='../data/'):\n",
    "    files = glob.glob(path)[:5]\n",
    "    f = files[0]\n",
    "    dt=0.3\n",
    "    songs = []\n",
    "    for f in tqdm(files):\n",
    "        try:\n",
    "            songs.append(midiread(f, r, dt).piano_roll)\n",
    "        except Exception as e:\n",
    "            print e            \n",
    "    return songs\n",
    "\n",
    "songs = get_songs()\n"
   ]
  },
  {
   "cell_type": "code",
   "execution_count": null,
   "metadata": {
    "collapsed": false
   },
   "outputs": [],
   "source": [
    "\n",
    "def build_rbm(x, W, bv_t, bh_t, k):\n",
    "    W = tf.Print(W, [W], \"W\")\n",
    "    bv_t = tf.Print(bv_t, [bv_t], \"bv_t\")\n",
    "    bh_t = tf.Print(bh_t, [bh_t], \"bh_t\")\n",
    "\n",
    "    size_bt = tf.shape(x)[0]\n",
    "\n",
    "    # helper functions\n",
    "    def sample(probs):\n",
    "        return tf.to_float(tf.floor(probs + tf.random_uniform(tf.shape(probs), 0, 1)))\n",
    "\n",
    "    def sampleInt(probs):\n",
    "        return tf.floor(probs + tf.random_uniform(tf.shape(probs), 0, 1))\n",
    "\n",
    "    # define graph/algorithm\n",
    "\n",
    "    # CD-k\n",
    "    # we use tf.while_loop to achieve the multiple (k - 1) gibbs sampling  \n",
    "    # set up tf.while_loop()\n",
    "    def rbmGibbs(xx, hh, count, k):\n",
    "        xk = sampleInt(tf.sigmoid(tf.matmul(hh, tf.transpose(W)) + tf.tile(bv_t, [size_bt, 1])))\n",
    "        hk = sampleInt(tf.sigmoid(tf.matmul(xk, W) + tf.tile(bh_t, [size_bt, 1])))\n",
    "        return xk, hk, count+1, k\n",
    "\n",
    "    def lessThanK(xk, hk, count, k):\n",
    "        return count <= k\n",
    "\n",
    "    ct = tf.constant(1) #counter\n",
    "    h = sample(tf.sigmoid(tf.matmul(x, W) + tf.tile(bh_t, [size_bt, 1])))# sample h x1 h1 ..\n",
    "    [xk1, hk1, _, _] = control_flow_ops.While(lessThanK, rbmGibbs, [x, h, ct, tf.constant(k)], 1, False)\n",
    "\n",
    "    def free_energy(xx):\n",
    "        #return -(v * bv_t).sum() - T.log(1 + T.exp(T.dot(v, W) + bh_t)).sum()\n",
    "        A = -tf.reduce_sum(tf.sigmoid(tf.matmul(xx, W) + tf.tile(bh_t, [size_bt, 1])), 1)\n",
    "        B = -tf.matmul(xx, tf.transpose(tf.cast(tf.tile(bv_t, [size_bt, 1]), tf.float32)))\n",
    "        return tf.add(B, A)\n",
    "\n",
    "    #Define loss and optimizer\n",
    "    #the cost is based on the difference in free energy between v and v_sample\n",
    "    e1 = free_energy(x)\n",
    "    e2 = free_energy(xk1)\n",
    "    cost = tf.reduce_mean(tf.sub(e1, e2))\n",
    "    return xk1, cost\n"
   ]
  },
  {
   "cell_type": "code",
   "execution_count": null,
   "metadata": {
    "collapsed": false
   },
   "outputs": [],
   "source": [
    "def build_rnnrbm( n_visible= 88, n_hidden= 150, n_hidden_recurrent= 100):\n",
    "\n",
    "    # variables and place holder\n",
    "    x  = tf.placeholder(tf.float32, [None, n_visible])\n",
    "    a  = tf.placeholder(tf.float32)\n",
    "    size_bt = tf.shape(x)[0]\n",
    "\n",
    "    W  = tf.Variable(tf.random_normal([n_visible, n_hidden], 0.01))\n",
    "    bh = tf.Variable(tf.zeros([n_hidden], tf.float32))\n",
    "    bv = tf.Variable(tf.zeros([n_visible], tf.float32))\n",
    "    Wuh = tf.Variable(tf.random_normal([n_hidden_recurrent, n_hidden], 0.0001))\n",
    "    Wuv = tf.Variable(tf.random_normal([n_hidden_recurrent, n_visible], 0.0001))\n",
    "    Wvu = tf.Variable(tf.random_normal([n_visible, n_hidden_recurrent], 0.0001))\n",
    "    Wuu = tf.Variable(tf.random_normal([n_hidden_recurrent, n_hidden_recurrent], 0.0001))\n",
    "    bu  = tf.Variable(tf.zeros([n_hidden_recurrent],  tf.float32))\n",
    "    \n",
    "#     hf.variable_summaries(W, \"W\")\n",
    "#     hf.variable_summaries(bh, \"bh\")\n",
    "#     hf.variable_summaries(bv, \"bv\")\n",
    "#     hf.variable_summaries(Wuh, \"Wuh\")\n",
    "#     hf.variable_summaries(Wuv, \"Wuv\")\n",
    "#     hf.variable_summaries(Wvu, \"Wvu\")\n",
    "#     hf.variable_summaries(Wuu, \"Wuu\")\n",
    "#     hf.variable_summaries(bu, \"bu\")\n",
    "\n",
    "    params = W, bh, bv, x, a, Wuh, Wuv, Wvu, Wuu, bu\n",
    "\n",
    "    # If `v_t` is given, deterministic recurrence to compute the variable\n",
    "    # biases bv_t, bh_t at each time step. If `v_t` is None, same recurrence\n",
    "    # but with a separate Gibbs chain at each time step to sample (generate)\n",
    "    # from the RNN-RBM. The resulting sample v_t is returned in order to be\n",
    "    # passed down to the sequence history.\n",
    "    \n",
    "    def recurrence(xx, u_tm1, _0, _1, count, k):\n",
    "        c = tf.Print(Wuv, [Wuv], \"Wuv\")\n",
    "        c = tf.Print(Wuh, [Wuh], \"Wuh\")\n",
    "\n",
    "        bv_t = tf.add(bv, tf.matmul(u_tm1, Wuv))\n",
    "        bh_t = tf.add(bh, tf.matmul(u_tm1, Wuh))\n",
    "        \n",
    "        sl   = tf.slice(xx, [count, 0], [1, n_visible])\n",
    "        u_t  = tf.tanh(bu + tf.matmul(sl, Wvu) + tf.matmul(u_tm1, Wuu))\n",
    "        return [xx, u_t, bv_t, bh_t, count+1, k]\n",
    "\n",
    "    def lessThanNumIter(_0, _1, _2, _3, count, num_iter):\n",
    "        return count < num_iter\n",
    "\n",
    "    ct   = tf.constant(1, tf.int32) #counter\n",
    "    u0   = tf.zeros([1, n_hidden_recurrent], tf.float32)\n",
    "    bh_t = tf.zeros([1, n_hidden],  tf.float32)#tf.random_uniform([1, n_hidden], -0.005, 0.005)\n",
    "    bv_t = tf.zeros([1, n_visible],  tf.float32)#tf.random_uniform([1, n_visible], -0.005, 0.005)\n",
    "    [x, u_t, bv_t, bh_t, _, _] = control_flow_ops.While(lessThanNumIter, recurrence, [x, u0, bv_t, bh_t, ct, size_bt])\n",
    "\n",
    "    #Build this rbm based on the bias vectors that we already found \n",
    "    sample, cost = build_rbm(x, W, bv_t, bh_t, k=15)\n",
    "    return x, sample, cost, params, bv_t, bh_t, size_bt\n",
    "\n",
    "x, sample, cost, params, bv_t, bh_t, size_bt = build_rnnrbm()\n",
    "\n",
    "W, bh, bv, x, a, Wuh, Wuv, Wvu, Wuu, bu = params\n",
    "optimizer = tf.train.AdamOptimizer(learning_rate=a).minimize(cost)\n",
    "# optimizer = tf.train.GradientDescentOptimizer(learning_rate=0.1).minimize(cost)\n"
   ]
  },
  {
   "cell_type": "code",
   "execution_count": null,
   "metadata": {
    "collapsed": true
   },
   "outputs": [],
   "source": []
  },
  {
   "cell_type": "code",
   "execution_count": null,
   "metadata": {
    "collapsed": false,
    "scrolled": false
   },
   "outputs": [],
   "source": [
    "\n",
    "num_epochs = 10\n",
    "batch_size = 100\n",
    "\n",
    "# sess.close()\n",
    "sess =  tf.Session()\n",
    "init = tf.initialize_all_variables()\n",
    "sess.run(init)\n",
    "\n",
    "merged = tf.merge_all_summaries()\n",
    "writer = tf.train.SummaryWriter('/tmp/tf_rbm_logs/train', sess.graph)\n",
    "\n",
    "# loop with batch\n",
    "for epoch in tqdm(range(num_epochs)):\n",
    "    for song in songs[:5]:\n",
    "        for i in range(1, len(song), batch_size):\n",
    "            tr_x = song[i:i + batch_size]\n",
    "#             alpha = min(0.05, 100/float(i))\n",
    "            summary, _ = sess.run([merged, optimizer], feed_dict={x: tr_x, a: 0.1})\n",
    "            writer.add_summary(summary, i)\n",
    "\n"
   ]
  },
  {
   "cell_type": "code",
   "execution_count": null,
   "metadata": {
    "collapsed": true
   },
   "outputs": [],
   "source": []
  },
  {
   "cell_type": "code",
   "execution_count": null,
   "metadata": {
    "collapsed": true
   },
   "outputs": [],
   "source": []
  },
  {
   "cell_type": "code",
   "execution_count": null,
   "metadata": {
    "collapsed": true
   },
   "outputs": [],
   "source": []
  },
  {
   "cell_type": "code",
   "execution_count": null,
   "metadata": {
    "collapsed": true
   },
   "outputs": [],
   "source": []
  },
  {
   "cell_type": "code",
   "execution_count": null,
   "metadata": {
    "collapsed": false,
    "scrolled": true
   },
   "outputs": [],
   "source": [
    "# before_W   = deepcopy(W.eval(session=sess))\n",
    "# before_Wuh = deepcopy(Wuh.eval(session=sess))\n",
    "# before_Wuv = deepcopy(Wuv.eval(session=sess))\n",
    "# before_Wvu = deepcopy(Wvu.eval(session=sess))\n",
    "# before_Wuu = deepcopy(Wuu.eval(session=sess))\n",
    "\n",
    "# before_bh  = deepcopy(bh.eval(session=sess))\n",
    "# before_bv  = deepcopy(bv.eval(session=sess))\n",
    "# before_bu  = deepcopy(bu.eval(session=sess))\n",
    "\n",
    "# for wb, w in zip([before_W, before_Wuh, before_Wuv, before_Wvu, before_Wuu], [W, Wuh, Wuv, Wvu, Wuu]):\n",
    "#     plt.figure()\n",
    "#     plt.subplot(121)\n",
    "#     hf.plot2d(wb)\n",
    "#     plt.subplot(122)\n",
    "#     hf.plot2d(w.eval(session=sess))\n",
    "    \n",
    "# for bb, b in zip([before_bh, before_bv, before_bu], [bh, bv, bu]):\n",
    "#     plt.figure()\n",
    "#     plt.subplot(121)\n",
    "#     plt.plot(bb)\n",
    "#     plt.subplot(122)\n",
    "#     plt.plot(b.eval(session=sess))"
   ]
  },
  {
   "cell_type": "code",
   "execution_count": null,
   "metadata": {
    "collapsed": false
   },
   "outputs": [],
   "source": [
    "sess.close()\n"
   ]
  },
  {
   "cell_type": "code",
   "execution_count": null,
   "metadata": {
    "collapsed": true
   },
   "outputs": [],
   "source": []
  }
 ],
 "metadata": {
  "kernelspec": {
   "display_name": "Python 2",
   "language": "python",
   "name": "python2"
  },
  "language_info": {
   "codemirror_mode": {
    "name": "ipython",
    "version": 2
   },
   "file_extension": ".py",
   "mimetype": "text/x-python",
   "name": "python",
   "nbconvert_exporter": "python",
   "pygments_lexer": "ipython2",
   "version": "2.7.11"
  }
 },
 "nbformat": 4,
 "nbformat_minor": 0
}
